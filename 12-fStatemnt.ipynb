{
 "cells": [
  {
   "cell_type": "code",
   "execution_count": 2,
   "metadata": {},
   "outputs": [
    {
     "name": "stdout",
     "output_type": "stream",
     "text": [
      "3 büyüktür 2\n"
     ]
    }
   ],
   "source": [
    "if 3 > 2 :\n",
    "    print(\"3 büyüktür 2\")"
   ]
  },
  {
   "cell_type": "code",
   "execution_count": 6,
   "metadata": {},
   "outputs": [],
   "source": [
    "x=4 "
   ]
  },
  {
   "cell_type": "code",
   "execution_count": 17,
   "metadata": {},
   "outputs": [],
   "source": [
    "y=4\n"
   ]
  },
  {
   "cell_type": "code",
   "execution_count": 18,
   "metadata": {},
   "outputs": [
    {
     "name": "stdout",
     "output_type": "stream",
     "text": [
      "x denktir y\n"
     ]
    }
   ],
   "source": [
    "if x > y:\n",
    "    print(\"x yden büyğktür\")\n",
    "elif x==y:\n",
    "    print(\"x denktir y\")\n",
    "else:\n",
    "    print(\"x y den küçüktür\")\n"
   ]
  },
  {
   "cell_type": "code",
   "execution_count": 31,
   "metadata": {},
   "outputs": [
    {
     "name": "stdout",
     "output_type": "stream",
     "text": [
      "superhero : Wolverine\n"
     ]
    }
   ],
   "source": [
    "my_superhero=input(\"superhero : \")\n"
   ]
  },
  {
   "cell_type": "code",
   "execution_count": 32,
   "metadata": {},
   "outputs": [
    {
     "name": "stdout",
     "output_type": "stream",
     "text": [
      "adamdir\n"
     ]
    }
   ],
   "source": [
    "if my_superhero==\"Batman\":\n",
    "    print(\"Para babası\")\n",
    "elif my_superhero==\"örümcekadam\":\n",
    "    print(\"ergen\")\n",
    "elif my_superhero==\"Wolverine\":\n",
    "    print(\"adamdir\")\n",
    "else : \n",
    "    print(\":/\")"
   ]
  },
  {
   "cell_type": "code",
   "execution_count": 33,
   "metadata": {},
   "outputs": [],
   "source": [
    "a=10"
   ]
  },
  {
   "cell_type": "code",
   "execution_count": 34,
   "metadata": {},
   "outputs": [],
   "source": [
    "b=12"
   ]
  },
  {
   "cell_type": "code",
   "execution_count": 35,
   "metadata": {},
   "outputs": [],
   "source": [
    "c=15"
   ]
  },
  {
   "cell_type": "code",
   "execution_count": 36,
   "metadata": {},
   "outputs": [
    {
     "name": "stdout",
     "output_type": "stream",
     "text": [
      "İyi akşamlar Londra.. Önce yayını kestiğim için özür dilemek isterim.. Pek çoğunuz gibi bende evimin güvenli ortamında günlük sıkıntılardan uzak televizyon başında keyif almaktan hoşlanan biriyim.. Bende her insan gibi severim ama onun anısına hürmeten şimdi buradayım.. Geçmişte yaşanan o çok önemli olayda mücadele ederken hayatlarını kaybeden o insanların anısına böyle bir kutlama yapmak istedim.. Ve böylece beş kasım gününün artık hiç hatırlanmadığını anladım.. Bu yüzden oturup sohbet etmemiz iyi olacak diye düşündüm. Elbette konuşmamı istemeyen kişiler de vardır.. Eminin şu anda telefonlarda emirler yağdırılıyor ve silahlı adamlar yola çıkmaya hazırlanıyor.. Neden? Çünkü konuşulmaya çalışılan yerde çoklar söz alıncaya kadar sözler her zaman gücünü korumaya devam eder.. Gerçeklerin ortaya konulduğu sözleri dinleyen herkes için büyük anlam taşıyan sözler..Ve gerçek şu ki; bu ülkede yolunda gitmeyen bir şeyler var… Zulüm ve adaletsizlik, hoşgörüsüzlük ve baskılar!! özgürlüğünüz kısıtlanıyorsa, düşünme ve konuşma hakkınız yoksa, sensörler ve chipler her hareketinizi her konuşmanızı izliyorsa orada işlerin yolunda gittiği söylenemez.. Peki bu nasıl oldu? Kimi suçlayalım? Evet, elbette diğerlerinden daha fazla sorumlu olan birileri mutlaka var.. ama yinede aynaya baktığınızda suçluluk duyuyorsanız gerçeği öğrenmiş olursunuz.. Neden yaptığınızı biliyorum, neden korktuğunuzu da; kim korkmaz ki!!! Savaş, terör, hastalıklar sağduyunuzu ve cesaretinizi kaybetmenize neden olacak çok değişik nedenler ortaya çıkmıştı.. Korku içinizi sardı ve o panik haliyle adam Sathler adındaki o başkana sarıldınız!!! Size düzen ve barış vaat etti..karşılığında sessizlik ve emirlere itaat etmenizi istedi..Dün gece o sessizliğe bir son verdim.Dün gece bu ülkeye unuttuğu bir şeyi hatırlatmak için adliye sarayını uçurdum..400 yıl önce bu millet beş kasımı sonsuza dek unutmamak üzere hafızalarına kazımıştı…Dünyaya adaletin, korkusuzluğun ve özgürlüğün sadece söz olmadığını anlatacaktI, bakış açısı buydu.. Eğer bir şey görmüyorsanız bu devletin suçları sizin için bir bilinmezse ve karşı çıkmıyorsanız demek ki beş kasımın unutulmasına siz izin verdiniz.. Eğer sizde benim gördüğümü görüyorsanız, benim gibi hissediyorsanız sizde benim gibi arıyorsanız o zaman yanımda olmanızı istiyorum.. Bir yıl sonra bu gece parlamentonun girişinde bulunun.. birlikte olup onlara beş kasımın asla unutulmadığını, unutulmayacağını gösterelim.\n"
     ]
    }
   ],
   "source": [
    "if a+b and c+a > a*b :\n",
    "    print(\"”Uzunca süre maske takarsan altındaki kişiliği de unutursun.”\")\n",
    "else:\n",
    "    print(\"İyi akşamlar Londra.. Önce yayını kestiğim için özür dilemek isterim.. Pek çoğunuz gibi bende evimin güvenli ortamında günlük sıkıntılardan uzak televizyon başında keyif almaktan hoşlanan biriyim.. Bende her insan gibi severim ama onun anısına hürmeten şimdi buradayım.. Geçmişte yaşanan o çok önemli olayda mücadele ederken hayatlarını kaybeden o insanların anısına böyle bir kutlama yapmak istedim.. Ve böylece beş kasım gününün artık hiç hatırlanmadığını anladım.. Bu yüzden oturup sohbet etmemiz iyi olacak diye düşündüm. Elbette konuşmamı istemeyen kişiler de vardır.. Eminin şu anda telefonlarda emirler yağdırılıyor ve silahlı adamlar yola çıkmaya hazırlanıyor.. Neden? Çünkü konuşulmaya çalışılan yerde çoklar söz alıncaya kadar sözler her zaman gücünü korumaya devam eder.. Gerçeklerin ortaya konulduğu sözleri dinleyen herkes için büyük anlam taşıyan sözler..Ve gerçek şu ki; bu ülkede yolunda gitmeyen bir şeyler var… Zulüm ve adaletsizlik, hoşgörüsüzlük ve baskılar!! özgürlüğünüz kısıtlanıyorsa, düşünme ve konuşma hakkınız yoksa, sensörler ve chipler her hareketinizi her konuşmanızı izliyorsa orada işlerin yolunda gittiği söylenemez.. Peki bu nasıl oldu? Kimi suçlayalım? Evet, elbette diğerlerinden daha fazla sorumlu olan birileri mutlaka var.. ama yinede aynaya baktığınızda suçluluk duyuyorsanız gerçeği öğrenmiş olursunuz.. Neden yaptığınızı biliyorum, neden korktuğunuzu da; kim korkmaz ki!!! Savaş, terör, hastalıklar sağduyunuzu ve cesaretinizi kaybetmenize neden olacak çok değişik nedenler ortaya çıkmıştı.. Korku içinizi sardı ve o panik haliyle adam Sathler adındaki o başkana sarıldınız!!! Size düzen ve barış vaat etti..karşılığında sessizlik ve emirlere itaat etmenizi istedi..Dün gece o sessizliğe bir son verdim.Dün gece bu ülkeye unuttuğu bir şeyi hatırlatmak için adliye sarayını uçurdum..400 yıl önce bu millet beş kasımı sonsuza dek unutmamak üzere hafızalarına kazımıştı…Dünyaya adaletin, korkusuzluğun ve özgürlüğün sadece söz olmadığını anlatacaktI, bakış açısı buydu.. Eğer bir şey görmüyorsanız bu devletin suçları sizin için bir bilinmezse ve karşı çıkmıyorsanız demek ki beş kasımın unutulmasına siz izin verdiniz.. Eğer sizde benim gördüğümü görüyorsanız, benim gibi hissediyorsanız sizde benim gibi arıyorsanız o zaman yanımda olmanızı istiyorum.. Bir yıl sonra bu gece parlamentonun girişinde bulunun.. birlikte olup onlara beş kasımın asla unutulmadığını, unutulmayacağını gösterelim.\")\n"
   ]
  },
  {
   "cell_type": "code",
   "execution_count": 41,
   "metadata": {},
   "outputs": [],
   "source": [
    "is_dead=True"
   ]
  },
  {
   "cell_type": "code",
   "execution_count": 42,
   "metadata": {},
   "outputs": [
    {
     "name": "stdout",
     "output_type": "stream",
     "text": [
      "karakter ölü\n"
     ]
    }
   ],
   "source": [
    "if is_dead:\n",
    "    print(\"karakter ölü\")\n",
    "else:\n",
    "    print(\"karakterin hayalet\")"
   ]
  },
  {
   "cell_type": "code",
   "execution_count": 43,
   "metadata": {},
   "outputs": [
    {
     "name": "stdout",
     "output_type": "stream",
     "text": [
      "karakter zombi \n"
     ]
    }
   ],
   "source": [
    "if not is_dead :\n",
    "    print(\"karakter yaşıyor\")\n",
    "else:\n",
    "    print(\"karakter zombi \")"
   ]
  },
  {
   "cell_type": "code",
   "execution_count": 45,
   "metadata": {},
   "outputs": [],
   "source": [
    "my_string=\"hello world\""
   ]
  },
  {
   "cell_type": "code",
   "execution_count": 46,
   "metadata": {},
   "outputs": [
    {
     "name": "stdout",
     "output_type": "stream",
     "text": [
      "merhabaa\n"
     ]
    }
   ],
   "source": [
    "if my_string == \"hello world\":\n",
    "    print(\"merhabaa\")"
   ]
  },
  {
   "cell_type": "code",
   "execution_count": 50,
   "metadata": {},
   "outputs": [
    {
     "name": "stdout",
     "output_type": "stream",
     "text": [
      "true\n"
     ]
    }
   ],
   "source": [
    "if \"hello \" in my_string:\n",
    "    print(\"true\")\n",
    "else:\n",
    "    print(\"false\")"
   ]
  },
  {
   "cell_type": "code",
   "execution_count": 52,
   "metadata": {},
   "outputs": [],
   "source": [
    "my_list=[1,2,3,4,5,6,7]"
   ]
  },
  {
   "cell_type": "code",
   "execution_count": 53,
   "metadata": {},
   "outputs": [
    {
     "name": "stdout",
     "output_type": "stream",
     "text": [
      "2 var\n"
     ]
    }
   ],
   "source": [
    "if 2 in my_list:\n",
    "    print(\"2 var\")\n",
    "    \n",
    "else:\n",
    "    print(\"2 yok\")"
   ]
  },
  {
   "cell_type": "code",
   "execution_count": 2,
   "metadata": {},
   "outputs": [],
   "source": [
    "my_dictionary={\"k1\":12,\"k2\":25,\"k3\":95}\n"
   ]
  },
  {
   "cell_type": "code",
   "execution_count": 7,
   "metadata": {},
   "outputs": [
    {
     "name": "stdout",
     "output_type": "stream",
     "text": [
      " var\n"
     ]
    }
   ],
   "source": [
    "if \"k1\" in my_dictionary.keys():#keysler iççine baktı\n",
    "    print(\" var\")\n",
    "else:\n",
    "    print(\"yok\")"
   ]
  },
  {
   "cell_type": "code",
   "execution_count": 10,
   "metadata": {},
   "outputs": [
    {
     "name": "stdout",
     "output_type": "stream",
     "text": [
      " var\n"
     ]
    }
   ],
   "source": [
    "if 95 in my_dictionary.values():#keys değerleri içine baktı\n",
    "    print(\" var\")\n",
    "else:\n",
    "    print(\"yok\")"
   ]
  },
  {
   "cell_type": "code",
   "execution_count": null,
   "metadata": {},
   "outputs": [],
   "source": []
  }
 ],
 "metadata": {
  "kernelspec": {
   "display_name": "Python 3",
   "language": "python",
   "name": "python3"
  },
  "language_info": {
   "codemirror_mode": {
    "name": "ipython",
    "version": 3
   },
   "file_extension": ".py",
   "mimetype": "text/x-python",
   "name": "python",
   "nbconvert_exporter": "python",
   "pygments_lexer": "ipython3",
   "version": "3.8.5"
  }
 },
 "nbformat": 4,
 "nbformat_minor": 4
}
